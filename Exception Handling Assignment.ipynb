{
 "cells": [
  {
   "cell_type": "markdown",
   "metadata": {},
   "source": [
    "1. Write a function to compute 5/0 and use try/except to catch the exceptions."
   ]
  },
  {
   "cell_type": "code",
   "execution_count": null,
   "metadata": {},
   "outputs": [],
   "source": [
    "try:\n",
    "    5/0\n",
    "except ZeroDivisionError:\n",
    "    print(\"Number cannot be divided by zero\")"
   ]
  },
  {
   "cell_type": "markdown",
   "metadata": {},
   "source": [
    "2. Implement a Python program to generate all sentences where subject is in\n",
    "[\"Americans\", \"Indians\"] and verb is in [\"Play\", \"watch\"] and the object is in[\"Baseball\",\"cricket\"].\n",
    "Hint: Subject,Verb and Object should be declared in the program as shown below.\n",
    "subjects=[\"Americans \",\"Indians\"]\n",
    "verbs=[\"play\",\"watch\"]\n",
    "objects=[\"Baseball\",\"Cricket\"]\n",
    "\n",
    "Output should come as below:\n",
    "\n",
    "    Americans play Baseball.\n",
    "    Americans play Cricket.\n",
    "    Americans watch Baseball.\n",
    "    Americans watch Cricket.\n",
    "    Indians play Baseball.\n",
    "    Indians play Cricket.\n",
    "    Indians watch Baseball.\n",
    "    Indians watch Cricket."
   ]
  },
  {
   "cell_type": "code",
   "execution_count": 15,
   "metadata": {},
   "outputs": [
    {
     "name": "stdout",
     "output_type": "stream",
     "text": [
      "Americans Play Baseball.\n",
      "Americans Play Cricket.\n",
      "Americans watch Baseball.\n",
      "Americans watch Cricket.\n",
      "Indians Play Baseball.\n",
      "Indians Play Cricket.\n",
      "Indians watch Baseball.\n",
      "Indians watch Cricket.\n"
     ]
    }
   ],
   "source": [
    "class who:\n",
    "    def __init__(self, subject, verb, objects):\n",
    "        self.subject = list(subject)\n",
    "        self.verb = list(verb)\n",
    "        self.objects = list(objects)\n",
    "       \n",
    "    def calc(self):\n",
    "        for i in self.subject:\n",
    "            for j in self.verb:\n",
    "                for k in self.objects:\n",
    "                     print(i+\" \"+j+\" \"+k+\".\")\n",
    "    \n",
    "x = who([\"Americans\", \"Indians\"], [\"Play\", \"watch\"], [\"Baseball\",\"Cricket\"])\n",
    "x.calc()"
   ]
  },
  {
   "cell_type": "code",
   "execution_count": null,
   "metadata": {},
   "outputs": [],
   "source": []
  }
 ],
 "metadata": {
  "kernelspec": {
   "display_name": "Python 3",
   "language": "python",
   "name": "python3"
  },
  "language_info": {
   "codemirror_mode": {
    "name": "ipython",
    "version": 3
   },
   "file_extension": ".py",
   "mimetype": "text/x-python",
   "name": "python",
   "nbconvert_exporter": "python",
   "pygments_lexer": "ipython3",
   "version": "3.7.4"
  }
 },
 "nbformat": 4,
 "nbformat_minor": 2
}
